{
 "cells": [
  {
   "cell_type": "code",
   "execution_count": null,
   "id": "1aa37c9c",
   "metadata": {},
   "outputs": [],
   "source": [
    "1. In the below elements which of them are values or an expression? eg:- values can be integer or string and expressions will be mathematical operators.\n",
    "* \n",
    "'hello'\n",
    "-87.8\n",
    "- \n",
    "/ \n",
    "+\t\n",
    "6 \n",
    "\n",
    "Ans:- Values are 'hello',-87.8,6\n",
    "    Expressions are *,-,/,+"
   ]
  },
  {
   "cell_type": "code",
   "execution_count": 1,
   "id": "a318e907",
   "metadata": {},
   "outputs": [],
   "source": [
    "2. What is the difference between string and variable?\n",
    "Ans:- A String is a value itself in the form a of text which we can store in a variable and a variable is a place in which we can store\n",
    "    any value of type int, float, string etc."
   ]
  },
  {
   "cell_type": "code",
   "execution_count": null,
   "id": "c1981c6f",
   "metadata": {},
   "outputs": [],
   "source": [
    "3. Describe three different data types.\n",
    "Ans:- There are different data types in python and out of which three are Numeric, Sequence type and set.\n",
    "    \n",
    "    Numeric Data type represents data which has numeric values.Numeric values can be Integer,Floating and even complex.\n",
    "    These values are defined as int,float,complex.\n",
    "    example: int - 20,100,5000 etc\n",
    "             float - 20.5,500.5,10.50 etc\n",
    "             complex - 4+6j\n",
    "    \n",
    "    Sequence type includes String, list and tuple.\n",
    "    A String is a collection of one or more characters put in a single quote, double quote or triple quote.\n",
    "    A list is like an array which includes an ordered collection of data of different data type.\n",
    "    A tuple is also an ordered collection but difference between a tuple and list is that tuple is immutable i.e tuples cannot\n",
    "    be modified after it is created.\n",
    "    example: String - \"I am learning python\",'vaibhav'\n",
    "             list - [1,2,3,\"python\",\"java\",56.30,4+6j,True]\n",
    "             tuple - (1,5,45,\"python\",\"java\",56.23,4+6j,False)\n",
    "                \n",
    "    Set is an Unordered collection of data type that is iterable, mutable and has no duplicate elements.\n",
    "    example: set - {1,20.5,50,100,\"python\",\"java\",4+6j}\n",
    "            "
   ]
  },
  {
   "cell_type": "code",
   "execution_count": null,
   "id": "fe242523",
   "metadata": {},
   "outputs": [],
   "source": [
    "4. What is an expression made up of? What do all expressions do?\n",
    "Ans:- An expression is made up of operators and operand. Where operators operators include arithmetic or boolean operator and operand are the values or number in\n",
    "    the expression. Expressions performs a specific task depending on what operators and oparand are used in the expression.\n",
    "    Expression is evaluated as per the precedence of its operator.\n",
    "      "
   ]
  },
  {
   "cell_type": "code",
   "execution_count": null,
   "id": "53eee937",
   "metadata": {},
   "outputs": [],
   "source": [
    "5. This assignment statements, like spam = 10. What is the difference between an expression and a statement?\n",
    "Ans:- An expression always produce or evaluate some other value whereas a statement does something i.e a statement represents an \n",
    "    action or command like print statement or assignment statement. "
   ]
  },
  {
   "cell_type": "code",
   "execution_count": null,
   "id": "6576ea5b",
   "metadata": {},
   "outputs": [],
   "source": [
    "6. After running the following code, what does the variable bacon contain?\n",
    "bacon = 22\n",
    "bacon + 1\n",
    "Ans:- 22"
   ]
  },
  {
   "cell_type": "code",
   "execution_count": null,
   "id": "60ef6d39",
   "metadata": {},
   "outputs": [],
   "source": [
    "7. What should the values of the following two terms be?\n",
    "'spam' + 'spamspam'\n",
    "'spam' * 3\n",
    "Ans:- spamspamspam\n",
    "      spamspamspam\n",
    "      "
   ]
  },
  {
   "cell_type": "code",
   "execution_count": null,
   "id": "dcd8829c",
   "metadata": {},
   "outputs": [],
   "source": [
    "8. Why is eggs a valid variable name while 100 is invalid?\n",
    "Ans:- A variable always starts with an alphabet or a _ sign. It should never starts with a number."
   ]
  },
  {
   "cell_type": "code",
   "execution_count": null,
   "id": "e59d7a45",
   "metadata": {},
   "outputs": [],
   "source": [
    "9. What three functions can be used to get the integer, floating-point number, or string version of a value?\n",
    "Ans:- int(), float() and str()"
   ]
  },
  {
   "cell_type": "code",
   "execution_count": null,
   "id": "d65ac6c2",
   "metadata": {},
   "outputs": [],
   "source": [
    "10. Why does this expression cause an error? How can you fix it?\n",
    "'I have eaten ' + 99 + ' burritos.'\n",
    "Ans:- In the above expression an integer value is trying to concat with a string which is not allowed and cause error.\n",
    "      To fix the error we can put 99 in '99' which consider it as a string."
   ]
  }
 ],
 "metadata": {
  "kernelspec": {
   "display_name": "Python 3 (ipykernel)",
   "language": "python",
   "name": "python3"
  },
  "language_info": {
   "codemirror_mode": {
    "name": "ipython",
    "version": 3
   },
   "file_extension": ".py",
   "mimetype": "text/x-python",
   "name": "python",
   "nbconvert_exporter": "python",
   "pygments_lexer": "ipython3",
   "version": "3.9.7"
  }
 },
 "nbformat": 4,
 "nbformat_minor": 5
}
