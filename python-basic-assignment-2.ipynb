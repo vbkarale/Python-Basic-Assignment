{
 "cells": [
  {
   "cell_type": "code",
   "execution_count": null,
   "id": "2a74deb6",
   "metadata": {},
   "outputs": [],
   "source": [
    "1.What are the two values of the Boolean data type? How do you write them?\n",
    "Ans:- True and False"
   ]
  },
  {
   "cell_type": "code",
   "execution_count": null,
   "id": "1904f891",
   "metadata": {},
   "outputs": [],
   "source": [
    "2. What are the three different types of Boolean operators?\n",
    "Ans:- Three different boolean Operators are and, or, not.          \n",
    "      and - true if both the operands are true.\n",
    "      or - true if either of the operands is true.\n",
    "      not - true if operand is false and false if operand is true."
   ]
  },
  {
   "cell_type": "code",
   "execution_count": null,
   "id": "eda00137",
   "metadata": {},
   "outputs": [],
   "source": [
    "3. Make a list of each Boolean operator's truth tables (i.e. every possible combination of Boolean values for the operator and what it evaluate ).\n",
    "Ans:-   and- \n",
    "         a       b     a and b\n",
    "        False  False    False\n",
    "        False  True     False\n",
    "        True   False    False\n",
    "        True   True     True\n",
    "        \n",
    "        or-\n",
    "        a        b     a or b\n",
    "       False    False   False\n",
    "       False    True    True\n",
    "       True     False   True\n",
    "       True     True    True\n",
    "        \n",
    "        not-\n",
    "         a       not a\n",
    "        False    True\n",
    "        True     False"
   ]
  },
  {
   "cell_type": "code",
   "execution_count": null,
   "id": "c139e272",
   "metadata": {},
   "outputs": [],
   "source": [
    "4. What are the values of the following expressions?\n",
    "(5 > 4) and (3 == 5)\n",
    "not (5 > 4)\n",
    "(5 > 4) or (3 == 5)\n",
    "not ((5 > 4) or (3 == 5))\n",
    "(True and True) and (True == False)\n",
    "(not False) or (not True)\n",
    "Ans:- (5 > 4) and (3 == 5)                - False\n",
    "      not (5 > 4)                         - False\n",
    "      (5 > 4) or (3 == 5)                 - True\n",
    "      not ((5 > 4) or (3 == 5))           - False\n",
    "      (True and True) and (True == False) - False\n",
    "      (not False) or (not True)           - True"
   ]
  },
  {
   "cell_type": "code",
   "execution_count": null,
   "id": "bd6c4da8",
   "metadata": {},
   "outputs": [],
   "source": [
    "5. What are the six comparison operators?\n",
    "Ans:- >,<,==,!=,>=,<="
   ]
  },
  {
   "cell_type": "code",
   "execution_count": null,
   "id": "9968fb92",
   "metadata": {},
   "outputs": [],
   "source": [
    "6. How do you tell the difference between the equal to and assignment operators?Describe a condition and when you would use one.\n",
    "Ans:- The equal to operator is an comparison operator to compare two values where an assignment operator is use to assign a \n",
    "      value to a variable.\n",
    "      The equal to operator can be use when we want to compare two results or values and based on the output we want to perform \n",
    "      some task.\n",
    "        example:- a = 2, b = 5\n",
    "                  if a == b:\n",
    "                    print(\"do some task when true\")\n",
    "                  else:\n",
    "                    print(\"do some task when false\")\n",
    "        \n",
    "    The assignment operator can be use when we want to assign a value or a input value to a variable.\n",
    "    example:- a = input(\"Enter your name\")\n",
    "              b = int(input(\"Enter any number\"))"
   ]
  },
  {
   "cell_type": "code",
   "execution_count": null,
   "id": "e3e904c2",
   "metadata": {},
   "outputs": [],
   "source": [
    "7. Identify the three blocks in this code:\n",
    "spam = 0\n",
    "if spam == 10:\n",
    "print('eggs')\n",
    "if spam > 5:\n",
    "print('bacon')\n",
    "else:\n",
    "print('ham')\n",
    "print('spam')\n",
    "print('spam')\n",
    "Ans:- if spam == 10:\n",
    "        print('eggs')\n",
    "        if spam > 5:\n",
    "            print('bacon')\n",
    "        else:\n",
    "            print('ham')\n",
    "     print('spam')\n",
    "     print('spam')\n",
    "         \n",
    "    Three blocks are if,if,else"
   ]
  },
  {
   "cell_type": "code",
   "execution_count": null,
   "id": "72b22be2",
   "metadata": {},
   "outputs": [],
   "source": [
    "8. Write code that prints Hello if 1 is stored in spam, prints Howdy if 2 is stored in spam, and prints Greetings! if anything else is stored in spam.\n",
    "Ans:- spam = int(input(\"Enter any integer value\"))\n",
    "if spam == 1:\n",
    "    print(\"Hello\")\n",
    "elif spam == 2:\n",
    "    print(\"Howdy\")\n",
    "else:\n",
    "    print(\"Greetings\")"
   ]
  },
  {
   "cell_type": "code",
   "execution_count": null,
   "id": "ca4145a2",
   "metadata": {},
   "outputs": [],
   "source": [
    "9.If your programme is stuck in an endless loop, what keys you’ll press?\n",
    "Ans:- ctrl+c"
   ]
  },
  {
   "cell_type": "code",
   "execution_count": null,
   "id": "49d91635",
   "metadata": {},
   "outputs": [],
   "source": [
    "10. How can you tell the difference between break and continue?\n",
    "Ans:-  break and continue statement are use in loops like while and for loop. Where break is also use in switch statement but continue does not.\n",
    "      break statement terminates the execution of the loop even if the execution of the loop is not completed and\n",
    "      continue statement takes the control at the beginning of the loop."
   ]
  },
  {
   "cell_type": "code",
   "execution_count": null,
   "id": "36afcf7f",
   "metadata": {},
   "outputs": [],
   "source": [
    "11. In a for loop, what is the difference between range(10), range(0, 10), and range(0, 10, 1)?\n",
    "Ans:- range(10) - it means that the loop will execute 10 times returning values from 0 to 9.\n",
    "      range(0,10) - it also means that the loop will execute 10 times returning values from 0 to 9.\n",
    "                     where first parameter in range denotes the starting number or position of the loop and seconnd parameter \n",
    "                     denotes when to stop the loop.\n",
    "      range(0,10,1) - it also means that the loop will execute 10 times returning values from 0 to 9.\n",
    "                      Here first two arguments are same as above and the third argument denotes the incrementation \n",
    "                      of sequence of number. Bydefault is 1."
   ]
  },
  {
   "cell_type": "code",
   "execution_count": null,
   "id": "175006e1",
   "metadata": {},
   "outputs": [],
   "source": [
    "12. Write a short program that prints the numbers 1 to 10 using a for loop. Then write an equivalent program that prints the numbers 1 to 10 using a while loop.\n",
    "Ans:- for i in range(1,11):\n",
    "        print(i)\n",
    "        \n",
    "        i = 1\n",
    "        while(i < 11):\n",
    "            print(i)\n",
    "            i+=1\n",
    "        \n",
    "      "
   ]
  },
  {
   "cell_type": "code",
   "execution_count": null,
   "id": "0ddbfd0f",
   "metadata": {},
   "outputs": [],
   "source": [
    "13. If you had a function named bacon() inside a module named spam, how would you call it after importing spam?\n",
    "Ans:- import spam\n",
    "      spam.bacon()"
   ]
  }
 ],
 "metadata": {
  "kernelspec": {
   "display_name": "Python 3 (ipykernel)",
   "language": "python",
   "name": "python3"
  },
  "language_info": {
   "codemirror_mode": {
    "name": "ipython",
    "version": 3
   },
   "file_extension": ".py",
   "mimetype": "text/x-python",
   "name": "python",
   "nbconvert_exporter": "python",
   "pygments_lexer": "ipython3",
   "version": "3.9.7"
  }
 },
 "nbformat": 4,
 "nbformat_minor": 5
}
